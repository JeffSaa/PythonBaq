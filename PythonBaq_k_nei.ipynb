{
 "cells": [
  {
   "cell_type": "code",
   "execution_count": 1,
   "id": "fd970bcf-3b95-4e2e-85a4-d4fdb569379b",
   "metadata": {},
   "outputs": [],
   "source": [
    "import numpy as np\n",
    "import matplotlib.pyplot as plt\n",
    "from ipywidgets import interact, widgets\n",
    "import cv2"
   ]
  },
  {
   "cell_type": "code",
   "execution_count": 2,
   "id": "58747dcb-8113-42e8-9e5a-318cff32a0ca",
   "metadata": {},
   "outputs": [],
   "source": [
    "# Función para cargar la imagen\n",
    "def load_image(image_buffer):\n",
    "    # Convertir el buffer de bytes en una imagen usando OpenCV\n",
    "    image = np.frombuffer(image_buffer, np.uint8)\n",
    "    image = cv2.imdecode(image, cv2.IMREAD_COLOR)\n",
    "    image = cv2.cvtColor(image, cv2.COLOR_BGR2RGB)\n",
    "    return image"
   ]
  },
  {
   "cell_type": "code",
   "execution_count": 3,
   "id": "53fb0587-9377-436b-97ff-92291e8b1842",
   "metadata": {},
   "outputs": [],
   "source": [
    "# Función para calcular la distancia euclidiana\n",
    "def euclidean_distance(a, b):\n",
    "    return np.sqrt(np.sum((a - b) ** 2, axis=1))"
   ]
  },
  {
   "cell_type": "code",
   "execution_count": 4,
   "id": "3f7fe84f-f05c-46a8-9bd2-e5ea8008e2e5",
   "metadata": {},
   "outputs": [],
   "source": [
    "# Implementación desde cero de KMeans\n",
    "def kmeans_custom(image, k, num_iterations=10):\n",
    "    # Redimensionar la imagen a una lista de píxeles\n",
    "    pixel_values = image.reshape((-1, 3))\n",
    "    pixel_values = np.float32(pixel_values)\n",
    "\n",
    "    # Inicializar los centroides de forma aleatoria\n",
    "    centroids = pixel_values[np.random.choice(pixel_values.shape[0], k, replace=False)]\n",
    "\n",
    "    frames = []  # Lista para almacenar frames de cada iteración\n",
    "    \n",
    "    for i in range(num_iterations):\n",
    "        # Etapa de asignación: asignar cada píxel al centroide más cercano\n",
    "        distances = np.array([euclidean_distance(pixel_values, centroid) for centroid in centroids])\n",
    "        labels = np.argmin(distances, axis=0)\n",
    "\n",
    "        # Guardar frame de la imagen segmentada en esta iteración\n",
    "        segmented_image = centroids[labels].reshape(image.shape)\n",
    "        \n",
    "        # Asegurarse de que los valores están en el rango 0-255\n",
    "        segmented_image = np.clip(segmented_image, 0, 255).astype(np.uint8)\n",
    "        frames.append(segmented_image)\n",
    "\n",
    "        # Etapa de actualización: recalcular los centroides\n",
    "        new_centroids = np.array([pixel_values[labels == j].mean(axis=0) if np.any(labels == j) else centroids[j] for j in range(k)])\n",
    "\n",
    "        # Verificar convergencia (si los centroides no cambian)\n",
    "        if np.all(centroids == new_centroids):\n",
    "            break\n",
    "        centroids = new_centroids\n",
    "\n",
    "    return centroids, labels, frames"
   ]
  },
  {
   "cell_type": "code",
   "execution_count": 5,
   "id": "b17031fe-7477-472c-9b53-701962c5c9ec",
   "metadata": {},
   "outputs": [],
   "source": [
    "# Función para visualizar la evolución de KMeans\n",
    "def plot_kmeans_evolution(image, k):\n",
    "    centroids, labels, frames = kmeans_custom(image, k)\n",
    "    \n",
    "    # Mostrar los frames de la evolución\n",
    "    for i, frame in enumerate(frames):\n",
    "        plt.figure(figsize=(6, 6))\n",
    "        plt.imshow(frame)\n",
    "        plt.title(f'Frame {i + 1}: Iteración {i + 1}')\n",
    "        plt.axis('off')\n",
    "        plt.show()"
   ]
  },
  {
   "cell_type": "code",
   "execution_count": 6,
   "id": "fab5b2da-3723-4b20-9c85-3da5b8f90fcb",
   "metadata": {},
   "outputs": [],
   "source": [
    "# Función para cargar la imagen desde el input interactivo\n",
    "def upload_and_process_image(image_upload, k):\n",
    "    if image_upload:\n",
    "        # Acceder al archivo cargado directamente desde el widget\n",
    "        uploaded_file = image_upload[0]\n",
    "        image_buffer = uploaded_file['content']\n",
    "        image = load_image(image_buffer)\n",
    "        \n",
    "        plot_kmeans_evolution(image, k)"
   ]
  },
  {
   "cell_type": "code",
   "execution_count": 11,
   "id": "feced627-3e15-447d-85b1-0b528519fbec",
   "metadata": {},
   "outputs": [],
   "source": [
    "# Crear un widget interactivo\n",
    "def interactive_kmeans():\n",
    "    # Widget para cargar una imagen\n",
    "    image_upload = widgets.FileUpload(accept='.jpg, .png', multiple=False)\n",
    "\n",
    "    # Slider para seleccionar el valor de k\n",
    "    k_slider = widgets.IntSlider(value=2, min=2, max=100, step=1, description='k clusters')\n",
    "\n",
    "    # Usar interact para la funcionalidad interactiva\n",
    "    interact(upload_and_process_image, image_upload=image_upload, k=k_slider)"
   ]
  },
  {
   "cell_type": "code",
   "execution_count": 12,
   "id": "3422abe3-4ec0-4402-928e-c1b954deb15c",
   "metadata": {},
   "outputs": [
    {
     "data": {
      "application/vnd.jupyter.widget-view+json": {
       "model_id": "05f5f0a9561f42e1996c694f505beba0",
       "version_major": 2,
       "version_minor": 0
      },
      "text/plain": [
       "interactive(children=(FileUpload(value=(), accept='.jpg, .png', description='Upload'), IntSlider(value=2, desc…"
      ]
     },
     "metadata": {},
     "output_type": "display_data"
    }
   ],
   "source": [
    "# Ejecutar el widget interactivo\n",
    "interactive_kmeans()"
   ]
  }
 ],
 "metadata": {
  "kernelspec": {
   "display_name": "Python 3 (ipykernel)",
   "language": "python",
   "name": "python3"
  },
  "language_info": {
   "codemirror_mode": {
    "name": "ipython",
    "version": 3
   },
   "file_extension": ".py",
   "mimetype": "text/x-python",
   "name": "python",
   "nbconvert_exporter": "python",
   "pygments_lexer": "ipython3",
   "version": "3.12.7"
  }
 },
 "nbformat": 4,
 "nbformat_minor": 5
}
